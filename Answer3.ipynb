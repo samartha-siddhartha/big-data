{
 "cells": [
  {
   "cell_type": "code",
   "execution_count": 2,
   "metadata": {},
   "outputs": [],
   "source": [
    "from graphframes import *"
   ]
  },
  {
   "cell_type": "markdown",
   "metadata": {},
   "source": [
    "READING CSV FILES AND REGISTERING TEMPLATE"
   ]
  },
  {
   "cell_type": "code",
   "execution_count": 3,
   "metadata": {},
   "outputs": [],
   "source": [
    "stations = sqlContext.read.format(\"com.databricks.spark.csv\").options(header='true', inferschema='true').load(\"file:///home/cloudera/Downloads/BDM1 Homework Assignment-1-20180521/station.csv\")"
   ]
  },
  {
   "cell_type": "code",
   "execution_count": 4,
   "metadata": {
    "collapsed": true
   },
   "outputs": [],
   "source": [
    "stations.registerTempTable(\"stations\")\n"
   ]
  },
  {
   "cell_type": "code",
   "execution_count": 5,
   "metadata": {},
   "outputs": [],
   "source": [
    "trips = sqlContext.read.format(\"com.databricks.spark.csv\").options(header='true').load(\"file:///home/cloudera/Downloads/BDM1 Homework Assignment-1-20180521/trip.csv\")"
   ]
  },
  {
   "cell_type": "code",
   "execution_count": 6,
   "metadata": {},
   "outputs": [],
   "source": [
    "trips.registerTempTable(\"trips\")"
   ]
  },
  {
   "cell_type": "markdown",
   "metadata": {},
   "source": [
    "CHANGING FIELD NAMES TO MAKE GRAPHFRAMES"
   ]
  },
  {
   "cell_type": "code",
   "execution_count": 7,
   "metadata": {
    "collapsed": true
   },
   "outputs": [],
   "source": [
    "stations = stations.withColumnRenamed(\"name\", \"id\").distinct()"
   ]
  },
  {
   "cell_type": "code",
   "execution_count": 8,
   "metadata": {
    "collapsed": true
   },
   "outputs": [],
   "source": [
    "trips = trips.withColumnRenamed(\"Start Station\", \"src\").distinct()"
   ]
  },
  {
   "cell_type": "code",
   "execution_count": 9,
   "metadata": {},
   "outputs": [],
   "source": [
    "trips = trips.withColumnRenamed(\"End Station\", \"dst\").distinct()"
   ]
  },
  {
   "cell_type": "markdown",
   "metadata": {},
   "source": [
    "CHECKING FOR COLUMN NAMES"
   ]
  },
  {
   "cell_type": "code",
   "execution_count": 122,
   "metadata": {},
   "outputs": [
    {
     "data": {
      "text/plain": [
       "['station_id', 'id', 'lat', 'long', 'dockcount', 'landmark', 'installation']"
      ]
     },
     "execution_count": 122,
     "metadata": {},
     "output_type": "execute_result"
    }
   ],
   "source": [
    "stations.columns"
   ]
  },
  {
   "cell_type": "code",
   "execution_count": 107,
   "metadata": {},
   "outputs": [
    {
     "data": {
      "text/plain": [
       "DataFrame[station_id: int, id: string, lat: double, long: double, dockcount: int, src: string, installation: string]"
      ]
     },
     "execution_count": 107,
     "metadata": {},
     "output_type": "execute_result"
    }
   ],
   "source": [
    "trips.cache()\n",
    "stations.cache()"
   ]
  },
  {
   "cell_type": "markdown",
   "metadata": {},
   "source": [
    "GREATING GRAPH"
   ]
  },
  {
   "cell_type": "code",
   "execution_count": 10,
   "metadata": {},
   "outputs": [
    {
     "name": "stdout",
     "output_type": "stream",
     "text": [
      "GraphFrame(v:[id: string, station_id: int, lat: double, long: double, dockcount: int, landmark: string, installation: string], e:[src: string, dst: string, Trip ID: string, Duration: string, Start Date: string, Start Terminal: string, End Date: string, End Terminal: string, Bike #: string, Subscriber Type: string, Zip Code: string])\n"
     ]
    }
   ],
   "source": [
    "g = GraphFrame(stations,trips)\n",
    "print g\n"
   ]
  },
  {
   "cell_type": "code",
   "execution_count": 124,
   "metadata": {},
   "outputs": [
    {
     "name": "stdout",
     "output_type": "stream",
     "text": [
      "+----------+--------------------+---------+-----------+---------+-------------+------------+\n",
      "|station_id|                  id|      lat|       long|dockcount|     landmark|installation|\n",
      "+----------+--------------------+---------+-----------+---------+-------------+------------+\n",
      "|         8| San Salvador at 1st|37.330165|-121.885831|       15|     San Jose|    8/5/2013|\n",
      "|        12|SJSU 4th at San C...|37.332808|-121.883891|       19|     San Jose|    8/7/2013|\n",
      "|        73|Grant Avenue at C...|37.798522|-122.407245|       15|San Francisco|   8/21/2013|\n",
      "|        36|California Ave Ca...|37.429082|-122.142805|       15|    Palo Alto|   8/14/2013|\n",
      "|        50|Harry Bridges Pla...|37.795392|-122.394203|       23|San Francisco|   8/20/2013|\n",
      "|        27|Mountain View Cit...|37.389218|-122.081896|       15|Mountain View|   8/16/2013|\n",
      "|        32|Castro Street and...|37.385956|-122.083678|       11|Mountain View|  12/31/2013|\n",
      "|        59| Golden Gate at Polk|37.781332|-122.418603|       23|San Francisco|   8/21/2013|\n",
      "|         3|San Jose Civic Ce...|37.330698|-121.888979|       15|     San Jose|    8/5/2013|\n",
      "|        22|Redwood City Calt...|37.486078|-122.232089|       25| Redwood City|   8/15/2013|\n",
      "|        23|San Mateo County ...|37.487616|-122.229951|       15| Redwood City|   8/15/2013|\n",
      "|        33|Rengstorff Avenue...|37.400241|-122.099076|       15|Mountain View|   8/16/2013|\n",
      "|        66|South Van Ness at...|37.774814|-122.418954|       19|San Francisco|   8/23/2013|\n",
      "|         9|           Japantown|37.348742|-121.894715|       15|     San Jose|    8/5/2013|\n",
      "|         6|    San Pedro Square|37.336721|-121.894074|       15|     San Jose|    8/7/2013|\n",
      "|        58|San Francisco Cit...| 37.77865|-122.418235|       19|San Francisco|   8/21/2013|\n",
      "|        49|     Spear at Folsom|37.790302|-122.390637|       19|San Francisco|   8/20/2013|\n",
      "|        69|San Francisco Cal...|  37.7766| -122.39547|       23|San Francisco|   8/23/2013|\n",
      "|        30|Evelyn Park and Ride|37.390277|-122.066553|       15|Mountain View|   8/16/2013|\n",
      "|         7|Paseo de San Antonio|37.333798|-121.886943|       15|     San Jose|    8/7/2013|\n",
      "+----------+--------------------+---------+-----------+---------+-------------+------------+\n",
      "only showing top 20 rows\n",
      "\n"
     ]
    }
   ],
   "source": [
    "g.vertices.show()"
   ]
  },
  {
   "cell_type": "code",
   "execution_count": 125,
   "metadata": {},
   "outputs": [
    {
     "name": "stdout",
     "output_type": "stream",
     "text": [
      "+-------+--------+---------------+--------------------+--------------+---------------+--------------------+------------+------+---------------+--------+\n",
      "|Trip ID|Duration|     Start Date|                 src|Start Terminal|       End Date|                 dst|End Terminal|Bike #|Subscriber Type|Zip Code|\n",
      "+-------+--------+---------------+--------------------+--------------+---------------+--------------------+------------+------+---------------+--------+\n",
      "| 912665|     824|8/31/2015 16:14|Embarcadero at Sa...|            60|8/31/2015 16:28|Harry Bridges Pla...|          50|   511|       Customer|     nil|\n",
      "| 912486|    1033|8/31/2015 13:20|      Market at 10th|            67|8/31/2015 13:37|   2nd at South Park|          64|   111|     Subscriber|   94552|\n",
      "| 912365|     570|8/31/2015 10:51|Embarcadero at Br...|            54|8/31/2015 11:00|     Clay at Battery|          41|   377|     Subscriber|   94105|\n",
      "| 912092|     232| 8/31/2015 8:56|San Francisco Cal...|            70| 8/31/2015 9:00|     2nd at Townsend|          61|   469|     Subscriber|   94403|\n",
      "| 911844|     917| 8/31/2015 8:03|San Francisco Cal...|            69| 8/31/2015 8:18|Washington at Kearny|          46|   540|     Subscriber|   94087|\n",
      "| 911826|     561| 8/31/2015 7:59|     Beale at Market|            56| 8/31/2015 8:08|Embarcadero at Sa...|          60|   318|     Subscriber|   94549|\n",
      "| 911671|    1326| 8/31/2015 6:52|Grant Avenue at C...|            73| 8/31/2015 7:14|San Francisco Cal...|          70|   479|     Subscriber|   94133|\n",
      "| 911622|     247| 8/31/2015 5:44|Grant Avenue at C...|            73| 8/31/2015 5:48|   Market at Sansome|          77|   604|     Subscriber|   94133|\n",
      "| 911551|    1244|8/30/2015 19:08|South Van Ness at...|            66|8/30/2015 19:29|Embarcadero at Fo...|          51|   594|       Customer|   38133|\n",
      "| 911117|     542|8/29/2015 18:19|       Market at 4th|            76|8/29/2015 18:28|Grant Avenue at C...|          73|    69|     Subscriber|   94107|\n",
      "| 910676|    6920|8/28/2015 21:41|Embarcadero at Br...|            54|8/28/2015 23:36|Embarcadero at Br...|          54|   598|       Customer|   95035|\n",
      "| 910569|     286|8/28/2015 18:54|   Market at Sansome|            77|8/28/2015 18:59|Harry Bridges Pla...|          50|   568|     Subscriber|   94947|\n",
      "| 910254|     424|8/28/2015 17:00|   2nd at South Park|            64|8/28/2015 17:07|   Steuart at Market|          74|   624|     Subscriber|   94960|\n",
      "| 910253|     592|8/28/2015 17:00|     Spear at Folsom|            49|8/28/2015 17:10|San Francisco Cal...|          70|   471|     Subscriber|   94404|\n",
      "| 910184|     745|8/28/2015 16:35|   2nd at South Park|            64|8/28/2015 16:48| Golden Gate at Polk|          59|   360|     Subscriber|   94109|\n",
      "| 909981|     299|8/28/2015 13:59|Civic Center BART...|            72|8/28/2015 14:04|       5th at Howard|          57|   457|     Subscriber|   95035|\n",
      "| 909880|     231|8/28/2015 11:56|Civic Center BART...|            72|8/28/2015 12:00|       Market at 4th|          76|   395|     Subscriber|   94602|\n",
      "| 909787|     390|8/28/2015 10:37|Harry Bridges Pla...|            50|8/28/2015 10:44|Embarcadero at Sa...|          60|    86|     Subscriber|   94612|\n",
      "| 909379|     473| 8/28/2015 8:17|Grant Avenue at C...|            73| 8/28/2015 8:24|Temporary Transba...|          55|   485|     Subscriber|   94133|\n",
      "| 909357|     366| 8/28/2015 8:11|Evelyn Park and Ride|            30| 8/28/2015 8:17|Mountain View Cal...|          28|   639|     Subscriber|   94040|\n",
      "+-------+--------+---------------+--------------------+--------------+---------------+--------------------+------------+------+---------------+--------+\n",
      "only showing top 20 rows\n",
      "\n"
     ]
    }
   ],
   "source": [
    "g.edges.show()"
   ]
  },
  {
   "cell_type": "markdown",
   "metadata": {},
   "source": [
    "SHOWING INDEGREES DESCENING "
   ]
  },
  {
   "cell_type": "code",
   "execution_count": 158,
   "metadata": {},
   "outputs": [
    {
     "name": "stdout",
     "output_type": "stream",
     "text": [
      "+--------------------+--------+\n",
      "|                  id|inDegree|\n",
      "+--------------------+--------+\n",
      "|San Francisco Cal...|   34810|\n",
      "|San Francisco Cal...|   22523|\n",
      "|Harry Bridges Pla...|   17810|\n",
      "|     2nd at Townsend|   15463|\n",
      "|     Townsend at 7th|   15422|\n",
      "|Embarcadero at Sa...|   15065|\n",
      "|   Market at Sansome|   13916|\n",
      "|   Steuart at Market|   13617|\n",
      "|Temporary Transba...|   12966|\n",
      "|  Powell Street BART|   10239|\n",
      "|      Market at 10th|   10220|\n",
      "|       Market at 4th|    9685|\n",
      "|   2nd at South Park|    8253|\n",
      "|       5th at Howard|    8147|\n",
      "|Civic Center BART...|    7714|\n",
      "|       Howard at 2nd|    7275|\n",
      "|Embarcadero at Fo...|    7229|\n",
      "|Broadway St at Ba...|    7159|\n",
      "|Embarcadero at Br...|    6687|\n",
      "|     Beale at Market|    6330|\n",
      "+--------------------+--------+\n",
      "\n"
     ]
    }
   ],
   "source": [
    "# g.inDegrees.show()\n",
    "g.inDegrees.sort(\"inDegree\",ascending =False).limit(20).show()"
   ]
  },
  {
   "cell_type": "markdown",
   "metadata": {},
   "source": [
    "SHOWING OUTDEGREES DESCENDING"
   ]
  },
  {
   "cell_type": "code",
   "execution_count": 160,
   "metadata": {},
   "outputs": [
    {
     "name": "stdout",
     "output_type": "stream",
     "text": [
      "+--------------------+---------+\n",
      "|                  id|outDegree|\n",
      "+--------------------+---------+\n",
      "|San Francisco Cal...|    26304|\n",
      "|San Francisco Cal...|    21758|\n",
      "|Harry Bridges Pla...|    17255|\n",
      "|Temporary Transba...|    14436|\n",
      "|Embarcadero at Sa...|    14158|\n",
      "|     2nd at Townsend|    14026|\n",
      "|     Townsend at 7th|    13752|\n",
      "|   Steuart at Market|    13687|\n",
      "|      Market at 10th|    11885|\n",
      "|   Market at Sansome|    11431|\n",
      "|       Market at 4th|     9894|\n",
      "|  Powell Street BART|     9695|\n",
      "|   2nd at South Park|     9469|\n",
      "|     Beale at Market|     8359|\n",
      "|Grant Avenue at C...|     8337|\n",
      "|       2nd at Folsom|     7999|\n",
      "|Civic Center BART...|     7760|\n",
      "|       5th at Howard|     7708|\n",
      "|Broadway St at Ba...|     7676|\n",
      "|Embarcadero at Fo...|     7596|\n",
      "+--------------------+---------+\n",
      "\n"
     ]
    }
   ],
   "source": [
    "g.outDegrees.sort(\"outDegree\",ascending =False).limit(20).show()"
   ]
  },
  {
   "cell_type": "code",
   "execution_count": null,
   "metadata": {},
   "outputs": [],
   "source": [
    "STATIONS WITH NO CONNECTING FLIGHTS"
   ]
  },
  {
   "cell_type": "code",
   "execution_count": 172,
   "metadata": {},
   "outputs": [
    {
     "name": "stdout",
     "output_type": "stream",
     "text": [
      "+--------------------+--------------------+\n",
      "|                   a|                   b|\n",
      "+--------------------+--------------------+\n",
      "|[60,Embarcadero a...|[50,Harry Bridges...|\n",
      "|[67,Market at 10t...|[64,2nd at South ...|\n",
      "|[54,Embarcadero a...|[41,Clay at Batte...|\n",
      "|[70,San Francisco...|[61,2nd at Townse...|\n",
      "|[56,Beale at Mark...|[60,Embarcadero a...|\n",
      "|[73,Grant Avenue ...|[70,San Francisco...|\n",
      "|[73,Grant Avenue ...|[77,Market at San...|\n",
      "|[66,South Van Nes...|[51,Embarcadero a...|\n",
      "|[76,Market at 4th...|[73,Grant Avenue ...|\n",
      "|[54,Embarcadero a...|[54,Embarcadero a...|\n",
      "+--------------------+--------------------+\n",
      "only showing top 10 rows\n",
      "\n"
     ]
    }
   ],
   "source": [
    "motifs = g.find(\"(a)-[]->(b)\")\n",
    "motifs.show(10)"
   ]
  },
  {
   "cell_type": "markdown",
   "metadata": {},
   "source": [
    "STATIONS WHERE PEOPLE DID NOT RETURN AFTER LEAVING "
   ]
  },
  {
   "cell_type": "code",
   "execution_count": 173,
   "metadata": {
    "collapsed": true
   },
   "outputs": [],
   "source": [
    "inDeg = g.inDegrees\n",
    "outDeg = g.outDegrees"
   ]
  },
  {
   "cell_type": "code",
   "execution_count": 174,
   "metadata": {
    "collapsed": true
   },
   "outputs": [],
   "source": [
    "degreeRatio = inDeg.join(outDeg, inDeg.id == outDeg.id).drop(outDeg.id).selectExpr(\"id\", \"double(inDegree)/double(outDegree) as degreeRatio\").cache()"
   ]
  },
  {
   "cell_type": "code",
   "execution_count": 177,
   "metadata": {},
   "outputs": [
    {
     "name": "stdout",
     "output_type": "stream",
     "text": [
      "+--------------------+------------------+\n",
      "|                  id|       degreeRatio|\n",
      "+--------------------+------------------+\n",
      "|Embarcadero at Br...|0.8936255512494988|\n",
      "|   Market at Sansome|1.2173913043478262|\n",
      "|       Park at Olive|1.1090425531914894|\n",
      "|Washington at Kearny|1.3086466165413533|\n",
      "|Evelyn Park and Ride|0.7413087934560327|\n",
      "|    San Pedro Square| 1.124823695345557|\n",
      "|San Antonio Caltr...|0.9886578449905482|\n",
      "|     2nd at Townsend| 1.102452588050763|\n",
      "|         MLK Library|0.8735213830755232|\n",
      "| San Salvador at 1st| 1.105050505050505|\n",
      "|Civic Center BART...|0.9940721649484536|\n",
      "|     Spear at Folsom|0.8954072479368497|\n",
      "|Powell at Post (U...|0.6434241245136186|\n",
      "|  Powell Street BART| 1.056111397627643|\n",
      "|South Van Ness at...|0.8303267528931245|\n",
      "|Stanford in Redwo...|               1.0|\n",
      "|Arena Green / SAP...|0.9598145285935085|\n",
      "|      Market at 10th|0.8599074463609592|\n",
      "|       Market at 4th| 0.978876086517081|\n",
      "|San Francisco Cal...|1.0351594815699972|\n",
      "+--------------------+------------------+\n",
      "only showing top 20 rows\n",
      "\n"
     ]
    }
   ],
   "source": [
    "degreeRatio.show()"
   ]
  },
  {
   "cell_type": "code",
   "execution_count": 191,
   "metadata": {},
   "outputs": [
    {
     "name": "stdout",
     "output_type": "stream",
     "text": [
      "+--------------------+--------------------+------------------+\n",
      "|                  id|                 src|       degreeRatio|\n",
      "+--------------------+--------------------+------------------+\n",
      "|      Market at 10th|      Market at 10th|0.8599074463609592|\n",
      "|Embarcadero at Br...|Embarcadero at Br...|0.8936255512494988|\n",
      "|     Beale at Market|     Beale at Market|  0.75726761574351|\n",
      "|Grant Avenue at C...|Grant Avenue at C...|0.5180520570948782|\n",
      "|Grant Avenue at C...|Grant Avenue at C...|0.5180520570948782|\n",
      "|South Van Ness at...|South Van Ness at...|0.8303267528931245|\n",
      "|Embarcadero at Br...|Embarcadero at Br...|0.8936255512494988|\n",
      "|   2nd at South Park|   2nd at South Park|0.8715809483577991|\n",
      "|     Spear at Folsom|     Spear at Folsom|0.8954072479368497|\n",
      "|   2nd at South Park|   2nd at South Park|0.8715809483577991|\n",
      "|Grant Avenue at C...|Grant Avenue at C...|0.5180520570948782|\n",
      "|Evelyn Park and Ride|Evelyn Park and Ride|0.7413087934560327|\n",
      "|Embarcadero at Br...|Embarcadero at Br...|0.8936255512494988|\n",
      "|Embarcadero at Br...|Embarcadero at Br...|0.8936255512494988|\n",
      "|Powell at Post (U...|Powell at Post (U...|0.6434241245136186|\n",
      "|Embarcadero at Br...|Embarcadero at Br...|0.8936255512494988|\n",
      "|       St James Park|       St James Park|0.8688915375446961|\n",
      "|Embarcadero at Br...|Embarcadero at Br...|0.8936255512494988|\n",
      "|     Spear at Folsom|     Spear at Folsom|0.8954072479368497|\n",
      "|Powell at Post (U...|Powell at Post (U...|0.6434241245136186|\n",
      "+--------------------+--------------------+------------------+\n",
      "only showing top 20 rows\n",
      "\n"
     ]
    }
   ],
   "source": [
    "comeback=degreeRatio.join(trips, degreeRatio.id == trips.src).selectExpr(\"id\", \"src\", \"degreeRatio\").filter(\"degreeRatio < 0.9 \")\n",
    "comeback.show(10)"
   ]
  },
  {
   "cell_type": "markdown",
   "metadata": {},
   "source": [
    "MOTIFS TO FIND A CAN CONNECT B B CAN CONNECT C BUT C AND HAVE NO DIRECT CONNECTIONS"
   ]
  },
  {
   "cell_type": "code",
   "execution_count": null,
   "metadata": {},
   "outputs": [],
   "source": [
    "motifs = g.find(\"(a)-[e]->(b);(b)-[f]->(c); !(c)-[]->(a)\")\n",
    "\n",
    "motifs.show()"
   ]
  },
  {
   "cell_type": "code",
   "execution_count": null,
   "metadata": {},
   "outputs": [],
   "source": [
    "PAGE RANK ON STATIONS STATION SAN JOSE HAS HIGHEST RANKING"
   ]
  },
  {
   "cell_type": "code",
   "execution_count": 11,
   "metadata": {},
   "outputs": [
    {
     "name": "stdout",
     "output_type": "stream",
     "text": [
      "+----------+--------------------+---------+-----------+---------+-------------+------------+------------------+\n",
      "|station_id|                  id|      lat|       long|dockcount|     landmark|installation|          pagerank|\n",
      "+----------+--------------------+---------+-----------+---------+-------------+------------+------------------+\n",
      "|         2|San Jose Diridon ...|37.329732|-121.901782|       27|     San Jose|    8/6/2013| 2.281525822423689|\n",
      "|        70|San Francisco Cal...|37.776617| -122.39526|       19|San Francisco|   8/23/2013|1.9076925128811353|\n",
      "|        22|Redwood City Calt...|37.486078|-122.232089|       25| Redwood City|   8/15/2013|1.4225549210068076|\n",
      "|        28|Mountain View Cal...|37.394358|-122.076713|       23|Mountain View|   8/15/2013|1.3956850803609109|\n",
      "|        69|San Francisco Cal...|  37.7766| -122.39547|       23|San Francisco|   8/23/2013|1.2880093979600193|\n",
      "|        50|Harry Bridges Pla...|37.795392|-122.394203|       23|San Francisco|   8/20/2013|1.0394789374393167|\n",
      "|        61|     2nd at Townsend|37.780526|-122.390288|       27|San Francisco|   8/22/2013| 0.913948893880949|\n",
      "|        65|     Townsend at 7th|37.771058|-122.402717|       15|San Francisco|   8/22/2013|0.9105184744605201|\n",
      "|        60|Embarcadero at Sa...| 37.80477|-122.403234|       15|San Francisco|   8/21/2013|0.8966730699783066|\n",
      "|         4|Santa Clara at Al...|37.333988|-121.894902|       11|     San Jose|    8/6/2013|0.8896981662193778|\n",
      "|        34|Palo Alto Caltrai...|37.443988|-122.164759|       23|    Palo Alto|   8/14/2013|0.8538752561689128|\n",
      "|        74|   Steuart at Market|37.794139|-122.394434|       23|San Francisco|   8/25/2013|0.8528308869250795|\n",
      "|        77|   Market at Sansome|37.789625|-122.400811|       27|San Francisco|   8/25/2013|0.8276200586314713|\n",
      "|         6|    San Pedro Square|37.336721|-121.894074|       15|     San Jose|    8/7/2013|0.8148116488464154|\n",
      "|        55|Temporary Transba...|37.789756|-122.394643|       23|San Francisco|   8/20/2013|0.8105891080805145|\n",
      "|        35|University and Em...|37.444521|-122.163093|       11|    Palo Alto|   8/15/2013|0.7894698196817839|\n",
      "|        25|Stanford in Redwo...| 37.48537|-122.203288|       15| Redwood City|   8/12/2013|0.7053919447020532|\n",
      "|        31|San Antonio Shopp...|37.400443|-122.108338|       15|Mountain View|  12/31/2013|0.6710110635704181|\n",
      "|        27|Mountain View Cit...|37.389218|-122.081896|       15|Mountain View|   8/16/2013|0.6688187888400257|\n",
      "|        67|      Market at 10th|37.776619|-122.417385|       27|San Francisco|   8/23/2013|0.6644436273768534|\n",
      "+----------+--------------------+---------+-----------+---------+-------------+------------+------------------+\n",
      "\n"
     ]
    }
   ],
   "source": [
    "ranks = g.pageRank(resetProbability=0.15, maxIter=5)\n",
    "ranks.vertices.orderBy(ranks.vertices.pagerank.desc()).limit(20).show()"
   ]
  }
 ],
 "metadata": {
  "kernelspec": {
   "display_name": "Python [Root]",
   "language": "python",
   "name": "Python [Root]"
  },
  "language_info": {
   "codemirror_mode": {
    "name": "ipython",
    "version": 2
   },
   "file_extension": ".py",
   "mimetype": "text/x-python",
   "name": "python",
   "nbconvert_exporter": "python",
   "pygments_lexer": "ipython2",
   "version": "2.7.12"
  }
 },
 "nbformat": 4,
 "nbformat_minor": 1
}
