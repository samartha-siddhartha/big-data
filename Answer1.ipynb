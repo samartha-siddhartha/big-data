{
 "cells": [
  {
   "cell_type": "markdown",
   "metadata": {},
   "source": [
    "READING FILES"
   ]
  },
  {
   "cell_type": "code",
   "execution_count": 1,
   "metadata": {},
   "outputs": [
    {
     "data": {
      "text/plain": [
       "<pyspark.context.SparkContext at 0x7fbaa6de1ad0>"
      ]
     },
     "execution_count": 1,
     "metadata": {},
     "output_type": "execute_result"
    }
   ],
   "source": [
    "sc"
   ]
  },
  {
   "cell_type": "code",
   "execution_count": null,
   "metadata": {
    "collapsed": true
   },
   "outputs": [],
   "source": [
    "sc.textFile(path, use_unicode=False).map(lambda x: x.decode(\"iso-8859-1\"))"
   ]
  },
  {
   "cell_type": "code",
   "execution_count": 120,
   "metadata": {},
   "outputs": [],
   "source": [
    "users = sc.textFile(\"file:///home/cloudera/Downloads/BDM1 Homework Assignment-1-20180521/users.csv\",use_unicode =False).map(lambda line: line.split(\",\"))\n",
    "# pagecounts.count()"
   ]
  },
  {
   "cell_type": "code",
   "execution_count": 121,
   "metadata": {},
   "outputs": [
    {
     "data": {
      "text/plain": [
       "15"
      ]
     },
     "execution_count": 121,
     "metadata": {},
     "output_type": "execute_result"
    }
   ],
   "source": [
    "transactions = sc.textFile(\"file:///home/cloudera/Downloads/BDM1 Homework Assignment-1-20180521/transactions.csv\",use_unicode =False).map(lambda line: line.split(\",\"))\n",
    "transactions.count()"
   ]
  },
  {
   "cell_type": "code",
   "execution_count": 122,
   "metadata": {},
   "outputs": [
    {
     "data": {
      "text/plain": [
       "[['1', '1004', '19', '129', 'whatchamacallit'],\n",
       " ['2', '1001', '10', '99', 'thingamajig'],\n",
       " ['3', '1004', '17', '129', 'whatchamacallit'],\n",
       " ['4', '1001', '9', '99', 'thingamajig'],\n",
       " ['5', '1003', '3', '89', 'gadget'],\n",
       " ['6', '1002', '19', '149', 'gizmo'],\n",
       " ['7', '1002', '30', '149', 'gizmo'],\n",
       " ['8', '1002', '26', '149', 'gizmo'],\n",
       " ['9', '1001', '22', '99', 'thingamajig'],\n",
       " ['10', '1003', '6', '89', 'gadget'],\n",
       " ['11', '1004', '1', '129', 'whatchamacallit'],\n",
       " ['12', '1004', '2', '129', 'whatchamacallit'],\n",
       " ['13', '1005', '5', '199', 'doohickey'],\n",
       " ['14', '1004', '7', '129', 'whatchamacallit'],\n",
       " ['15', '1002', '16', '149', 'gizmo']]"
      ]
     },
     "execution_count": 122,
     "metadata": {},
     "output_type": "execute_result"
    }
   ],
   "source": [
    "transactions.collect()"
   ]
  },
  {
   "cell_type": "code",
   "execution_count": 180,
   "metadata": {},
   "outputs": [
    {
     "data": {
      "text/plain": [
       "[['1', 'user1@company.com', 'ES', 'MX'],\n",
       " ['2', 'user4@domain.com', 'EN', 'US'],\n",
       " ['3', 'user5@company.com', 'FR', 'FR'],\n",
       " ['4', 'user9@site.org', 'HI', 'IN'],\n",
       " ['5', 'user12@service.io', 'EN', 'CA'],\n",
       " ['6', 'user17@website.net', 'FR', 'FR'],\n",
       " ['7', 'user21@company.com', 'FR', 'FR'],\n",
       " ['8', 'user25@company.com', 'FR', 'FR'],\n",
       " ['9', 'user27@school.edu', 'ES', 'MX'],\n",
       " ['10', 'user31@website.net', 'EN', 'CA'],\n",
       " ['11', 'user36@website.net', 'FR', 'FR'],\n",
       " ['12', 'user39@domain.com', 'FR', 'FR'],\n",
       " ['13', 'user41@company.com', 'ES', 'MX'],\n",
       " ['14', 'user45@domain.com', 'HI', 'IN'],\n",
       " ['15', 'user48@site.org', 'ES', 'MX'],\n",
       " ['16', 'user53@school.edu', 'EN', 'US'],\n",
       " ['17', 'user57@school.edu', 'ES', 'MX'],\n",
       " ['18', 'user59@website.net', 'HI', 'IN'],\n",
       " ['19', 'user64@school.edu', 'EN', 'US'],\n",
       " ['20', 'user67@domain.com', 'HI', 'IN'],\n",
       " ['21', 'user68@site.org', 'EN', 'US'],\n",
       " ['22', 'user71@domain.com', 'ES', 'MX'],\n",
       " ['23', 'user74@service.io', 'EN', 'US'],\n",
       " ['24', 'user79@website.net', 'ES', 'MX'],\n",
       " ['25', 'user81@site.org', 'EN', 'US'],\n",
       " ['26', 'user85@service.io', 'HI', 'IN'],\n",
       " ['27', 'user89@service.io', 'EN', 'CA'],\n",
       " ['28', 'user91@company.com', 'EN', 'CA'],\n",
       " ['29', 'user96@site.org', 'ES', 'MX'],\n",
       " ['30', 'user99@website.net', 'EN', 'US']]"
      ]
     },
     "execution_count": 180,
     "metadata": {},
     "output_type": "execute_result"
    }
   ],
   "source": [
    "users.collect()"
   ]
  },
  {
   "cell_type": "markdown",
   "metadata": {},
   "source": [
    "JOINING BOTH THE FILES "
   ]
  },
  {
   "cell_type": "code",
   "execution_count": 150,
   "metadata": {},
   "outputs": [],
   "source": [
    "mn = users.fullOuterJoin(transactions,numPartitions = None)"
   ]
  },
  {
   "cell_type": "code",
   "execution_count": 151,
   "metadata": {},
   "outputs": [
    {
     "data": {
      "text/plain": [
       "[('24', ('user79@website.net', None)),\n",
       " ('11', ('user36@website.net', '1004')),\n",
       " ('26', ('user85@service.io', None)),\n",
       " ('20', ('user67@domain.com', None)),\n",
       " ('17', ('user57@school.edu', None)),\n",
       " ('22', ('user71@domain.com', None)),\n",
       " ('19', ('user64@school.edu', None)),\n",
       " ('28', ('user91@company.com', None)),\n",
       " ('13', ('user41@company.com', '1005')),\n",
       " ('1', ('user1@company.com', '1004')),\n",
       " ('3', ('user5@company.com', '1004')),\n",
       " ('5', ('user12@service.io', '1003')),\n",
       " ('7', ('user21@company.com', '1002')),\n",
       " ('9', ('user27@school.edu', '1001')),\n",
       " ('15', ('user48@site.org', '1002')),\n",
       " ('25', ('user81@site.org', None)),\n",
       " ('27', ('user89@service.io', None)),\n",
       " ('21', ('user68@site.org', None)),\n",
       " ('14', ('user45@domain.com', '1004')),\n",
       " ('23', ('user74@service.io', None)),\n",
       " ('18', ('user59@website.net', None)),\n",
       " ('30', ('user99@website.net', None)),\n",
       " ('16', ('user53@school.edu', None)),\n",
       " ('29', ('user96@site.org', None)),\n",
       " ('2', ('user4@domain.com', '1001')),\n",
       " ('4', ('user9@site.org', '1001')),\n",
       " ('6', ('user17@website.net', '1002')),\n",
       " ('8', ('user25@company.com', '1002')),\n",
       " ('12', ('user39@domain.com', '1004')),\n",
       " ('10', ('user31@website.net', '1003'))]"
      ]
     },
     "execution_count": 151,
     "metadata": {},
     "output_type": "execute_result"
    }
   ],
   "source": [
    "mn.collect()"
   ]
  },
  {
   "cell_type": "markdown",
   "metadata": {},
   "source": [
    "FILTERING FOR BUYERS IN DATASET"
   ]
  },
  {
   "cell_type": "code",
   "execution_count": 110,
   "metadata": {},
   "outputs": [
    {
     "data": {
      "text/plain": [
       "[('11', ('user36@website.net', '1004')),\n",
       " ('13', ('user41@company.com', '1005')),\n",
       " ('1', ('user1@company.com', '1004')),\n",
       " ('3', ('user5@company.com', '1004')),\n",
       " ('5', ('user12@service.io', '1003')),\n",
       " ('7', ('user21@company.com', '1002')),\n",
       " ('9', ('user27@school.edu', '1001')),\n",
       " ('15', ('user48@site.org', '1002')),\n",
       " ('14', ('user45@domain.com', '1004')),\n",
       " ('2', ('user4@domain.com', '1001')),\n",
       " ('4', ('user9@site.org', '1001')),\n",
       " ('6', ('user17@website.net', '1002')),\n",
       " ('8', ('user25@company.com', '1002')),\n",
       " ('12', ('user39@domain.com', '1004')),\n",
       " ('10', ('user31@website.net', '1003'))]"
      ]
     },
     "execution_count": 110,
     "metadata": {},
     "output_type": "execute_result"
    }
   ],
   "source": [
    "sold = mn.filter(lambda x: None not in x[1])\n",
    "sold.collect()"
   ]
  },
  {
   "cell_type": "markdown",
   "metadata": {},
   "source": [
    "FINDING PRODUCTS SOLD"
   ]
  },
  {
   "cell_type": "code",
   "execution_count": 178,
   "metadata": {},
   "outputs": [],
   "source": [
    "products = transactions.map(lambda x:x[4]).distinct()"
   ]
  },
  {
   "cell_type": "code",
   "execution_count": 179,
   "metadata": {},
   "outputs": [
    {
     "data": {
      "text/plain": [
       "['thingamajig', 'gadget', 'doohickey', 'whatchamacallit', 'gizmo']"
      ]
     },
     "execution_count": 179,
     "metadata": {},
     "output_type": "execute_result"
    }
   ],
   "source": [
    "products.collect()"
   ]
  },
  {
   "cell_type": "markdown",
   "metadata": {},
   "source": [
    "FINDING UNIQUE PRICES FOR PRODUCTS"
   ]
  },
  {
   "cell_type": "code",
   "execution_count": 176,
   "metadata": {},
   "outputs": [],
   "source": [
    "cost = transactions.map(lambda x:x[3]).distinct()"
   ]
  },
  {
   "cell_type": "code",
   "execution_count": 177,
   "metadata": {},
   "outputs": [
    {
     "data": {
      "text/plain": [
       "['99', '129', '89', '199', '149']"
      ]
     },
     "execution_count": 177,
     "metadata": {},
     "output_type": "execute_result"
    }
   ],
   "source": [
    "cost.collect()"
   ]
  }
 ],
 "metadata": {
  "kernelspec": {
   "display_name": "Python [Root]",
   "language": "python",
   "name": "Python [Root]"
  },
  "language_info": {
   "codemirror_mode": {
    "name": "ipython",
    "version": 2
   },
   "file_extension": ".py",
   "mimetype": "text/x-python",
   "name": "python",
   "nbconvert_exporter": "python",
   "pygments_lexer": "ipython2",
   "version": "2.7.12"
  }
 },
 "nbformat": 4,
 "nbformat_minor": 1
}
